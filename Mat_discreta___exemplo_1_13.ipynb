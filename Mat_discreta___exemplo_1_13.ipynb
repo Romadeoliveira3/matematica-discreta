{
  "nbformat": 4,
  "nbformat_minor": 0,
  "metadata": {
    "colab": {
      "provenance": []
    },
    "kernelspec": {
      "name": "python3",
      "display_name": "Python 3"
    },
    "language_info": {
      "name": "python"
    }
  },
  "cells": [
    {
      "cell_type": "markdown",
      "source": [
        "\n",
        "**Exemplo 1.3**: Em alguns estados, a data e o mês de nascimento são incorporados ao número da carteira nacional de habilitação (CNH), por meio da expressão **XYZ = 40(m − 1)+ n** , em que m e n representam o mês e a data de nascimento, respectivamente, e XYZ são os três últimos dígitos da CNH. Assim,  onsiderando que 349 = 40 8. + 29, o titular da CNH com esses três últimos dígitos nasceu no dia 29 de setembro.\n",
        "\n",
        "\n"
      ],
      "metadata": {
        "id": "Vs2pGbWyyXwX"
      }
    },
    {
      "cell_type": "code",
      "execution_count": null,
      "metadata": {
        "id": "3PU3kxHQxwku"
      },
      "outputs": [],
      "source": [
        "def aniversario(xyz):\n",
        "  for m in range (1,13):\n",
        "    for n in range (1,32):\n",
        "      print (f\"Tentando m = {m} e n={n}\")\n",
        "      if xyz == 40*(m-1) + n:\n",
        "        return m, n\n",
        "  return None\n",
        "\n",
        "xyz = 349\n",
        "aniversario = aniversario(xyz)"
      ]
    },
    {
      "cell_type": "code",
      "source": [
        "if aniversario is not None:\n",
        "  print(f\"\\n A pessoa nasceu em {aniversario[0]}/{aniversario[1]}\")\n",
        "else:\n",
        "  print(\"\\n Não foi encontrado a data de nascimento\")"
      ],
      "metadata": {
        "colab": {
          "base_uri": "https://localhost:8080/"
        },
        "id": "JXlWh615yfxn",
        "outputId": "d5655a36-c444-4723-d374-d82c2ef39da6"
      },
      "execution_count": 17,
      "outputs": [
        {
          "output_type": "stream",
          "name": "stdout",
          "text": [
            "\n",
            " A pessoa nasceu em 9/28\n"
          ]
        }
      ]
    },
    {
      "cell_type": "code",
      "source": [],
      "metadata": {
        "id": "AvAJkxu8y6m0"
      },
      "execution_count": null,
      "outputs": []
    }
  ]
}